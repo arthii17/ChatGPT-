{
 "cells": [
  {
   "cell_type": "code",
   "execution_count": 1,
   "metadata": {},
   "outputs": [],
   "source": [
    "import openai\n",
    "import wandb\n",
    "import os\n",
    "import sys"
   ]
  },
  {
   "cell_type": "code",
   "execution_count": 2,
   "metadata": {},
   "outputs": [],
   "source": [
    "openai.api_key = 'sk-gp2TUTbHK4FBBBUU6-Kn2T3BlbkF-Jv91O65QI0HBVqTmQuZlb'"
   ]
  },
  {
   "cell_type": "code",
   "execution_count": 4,
   "metadata": {},
   "outputs": [
    {
     "name": "stdout",
     "output_type": "stream",
     "text": [
      "Yo, yo, yo, listen up folks\n",
      "I got news for you that'll bring the dope\n",
      "\n",
      "Let me tell you 'bout this dope API\n",
      "Called ChatGPT that'll make you fly high\n",
      "\n",
      "It's the solution to all your chatbot needs\n",
      "With machine learning and natural language processing feed\n",
      "\n",
      "You can build chatbots with ease and care\n",
      "Customizable and responsive, they'll make people stare\n",
      "\n",
      "The ChatGPT API, it works wonders\n",
      "With data-driven chatbots, you'll no longer wander\n",
      "\n",
      "Empower your business with automation today\n",
      "Let ChatGPT do the job, in the most efficient way\n",
      "\n",
      "If you're still skeptical, let me tell ya\n",
      "The API is free, no need to splurge a dollar\n",
      "\n",
      "So don't wait, start building chatbots with ChatGPT today\n",
      "You won't regret it, I'm telling you, no way!\n"
     ]
    }
   ],
   "source": [
    "completion = openai.ChatCompletion.create(\n",
    "  model=\"gpt-3.5-turbo\",\n",
    "  messages=[\n",
    "    {\"role\": \"user\", \"content\": \"Tell the world about the ChatGPT API in the style of a rap.\"}\n",
    "  ]\n",
    ")\n",
    "\n",
    "print(completion.choices[0].message.content)"
   ]
  }
 ],
 "metadata": {
  "kernelspec": {
   "display_name": "Python 3.9.7 64-bit",
   "language": "python",
   "name": "python3"
  },
  "language_info": {
   "codemirror_mode": {
    "name": "ipython",
    "version": 3
   },
   "file_extension": ".py",
   "mimetype": "text/x-python",
   "name": "python",
   "nbconvert_exporter": "python",
   "pygments_lexer": "ipython3",
   "version": "3.9.7"
  },
  "orig_nbformat": 4,
  "vscode": {
   "interpreter": {
    "hash": "f22791e62b3f7224737971165d8df89df8a635cba14d0ddaa08f7e89192bd607"
   }
  }
 },
 "nbformat": 4,
 "nbformat_minor": 2
}
